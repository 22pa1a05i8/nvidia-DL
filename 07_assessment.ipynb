{
 "cells": [
  {
   "cell_type": "markdown",
   "metadata": {},
   "source": [
    "<center><a href=\"https://www.nvidia.com/dli\"> <img src=\"images/DLI_Header.png\" alt=\"Header\" style=\"width: 400px;\"/> </a></center>"
   ]
  },
  {
   "cell_type": "markdown",
   "metadata": {},
   "source": [
    "# Assessment"
   ]
  },
  {
   "cell_type": "markdown",
   "metadata": {},
   "source": [
    "Congratulations on going through today's course! Hopefully, you've learned some valuable skills along the way and had fun doing it. Now it's time to put those skills to the test. In this assessment, you will train a new model that is able to recognize fresh and rotten fruit. You will need to get the model to a validation accuracy of `92%` in order to pass the assessment, though we challenge you to do even better if you can. You will have the use the skills that you learned in the previous exercises. Specifically, we suggest using some combination of transfer learning, data augmentation, and fine tuning. Once you have trained the model to be at least 92% accurate on the validation dataset, save your model, and then assess its accuracy. Let's get started! "
   ]
  },
  {
   "cell_type": "markdown",
   "metadata": {},
   "source": [
    "## The Dataset"
   ]
  },
  {
   "cell_type": "markdown",
   "metadata": {},
   "source": [
    "In this exercise, you will train a model to recognize fresh and rotten fruits. The dataset comes from [Kaggle](https://www.kaggle.com/sriramr/fruits-fresh-and-rotten-for-classification), a great place to go if you're interested in starting a project after this class. The dataset structure is in the `data/fruits` folder. There are 6 categories of fruits: fresh apples, fresh oranges, fresh bananas, rotten apples, rotten oranges, and rotten bananas. This will mean that your model will require an output layer of 6 neurons to do the categorization successfully. You'll also need to compile the model with `categorical_crossentropy`, as we have more than two categories."
   ]
  },
  {
   "cell_type": "markdown",
   "metadata": {},
   "source": [
    "<img src=\"./images/fruits.png\" style=\"width: 600px;\">"
   ]
  },
  {
   "cell_type": "markdown",
   "metadata": {},
   "source": [
    "## Load ImageNet Base Model"
   ]
  },
  {
   "cell_type": "markdown",
   "metadata": {},
   "source": [
    "We encourage you to start with a model pretrained on ImageNet. Load the model with the correct weights, set an input shape, and choose to remove the last layers of the model. Remember that images have three dimensions: a height, and width, and a number of channels. Because these pictures are in color, there will be three channels for red, green, and blue. We've filled in the input shape for you. This cannot be changed or the assessment will fail. If you need a reference for setting up the pretrained model, please take a look at [notebook 05b](05b_presidential_doggy_door.ipynb) where we implemented transfer learning."
   ]
  },
  {
   "cell_type": "code",
   "execution_count": 5,
   "metadata": {},
   "outputs": [],
   "source": [
    "from tensorflow import keras\n",
    "\n",
    "base_model = keras.applications.VGG16(\n",
    "    weights=\"imagenet\",\n",
    "    input_shape=(224, 224, 3),\n",
    "    include_top= False)"
   ]
  },
  {
   "cell_type": "markdown",
   "metadata": {},
   "source": [
    "## Freeze Base Model"
   ]
  },
  {
   "cell_type": "markdown",
   "metadata": {},
   "source": [
    "Next, we suggest freezing the base model, as done in [notebook 05b](05b_presidential_doggy_door.ipynb). This is done so that all the learning from the ImageNet dataset does not get destroyed in the initial training."
   ]
  },
  {
   "cell_type": "code",
   "execution_count": 6,
   "metadata": {},
   "outputs": [],
   "source": [
    "# Freeze base model\n",
    "base_model.trainable = False"
   ]
  },
  {
   "cell_type": "markdown",
   "metadata": {},
   "source": [
    "## Add Layers to Model"
   ]
  },
  {
   "cell_type": "markdown",
   "metadata": {},
   "source": [
    "Now it's time to add layers to the pretrained model. [Notebook 05b](05b_presidential_doggy_door.ipynb) can be used as a guide. Pay close attention to the last dense layer and make sure it has the correct number of neurons to classify the different types of fruit."
   ]
  },
  {
   "cell_type": "code",
   "execution_count": 8,
   "metadata": {},
   "outputs": [],
   "source": [
    "inputs = keras.Input(shape=(224, 224, 3))\n",
    "# Separately from setting trainable on the model, we set training to False \n",
    "x = base_model(inputs, training=False)\n",
    "x = keras.layers.GlobalAveragePooling2D()(x)\n",
    "# A Dense classifier with a single unit (binary classification)\n",
    "outputs = keras.layers.Dense(1)(x)\n",
    "model = keras.Model(inputs, outputs)"
   ]
  },
  {
   "cell_type": "code",
   "execution_count": 9,
   "metadata": {},
   "outputs": [
    {
     "name": "stdout",
     "output_type": "stream",
     "text": [
      "Model: \"model\"\n",
      "_________________________________________________________________\n",
      "Layer (type)                 Output Shape              Param #   \n",
      "=================================================================\n",
      "input_4 (InputLayer)         [(None, 224, 224, 3)]     0         \n",
      "_________________________________________________________________\n",
      "vgg16 (Model)                (None, 7, 7, 512)         14714688  \n",
      "_________________________________________________________________\n",
      "global_average_pooling2d (Gl (None, 512)               0         \n",
      "_________________________________________________________________\n",
      "dense (Dense)                (None, 1)                 513       \n",
      "=================================================================\n",
      "Total params: 14,715,201\n",
      "Trainable params: 513\n",
      "Non-trainable params: 14,714,688\n",
      "_________________________________________________________________\n"
     ]
    }
   ],
   "source": [
    "model.summary()"
   ]
  },
  {
   "cell_type": "markdown",
   "metadata": {},
   "source": [
    "## Compile Model"
   ]
  },
  {
   "cell_type": "markdown",
   "metadata": {},
   "source": [
    "Now it's time to compile the model with loss and metrics options. Remember that we're training on a number of different categories, rather than a binary classification problem."
   ]
  },
  {
   "cell_type": "code",
   "execution_count": 10,
   "metadata": {},
   "outputs": [],
   "source": [
    "model.compile(loss=keras.losses.BinaryCrossentropy(from_logits=True), metrics=[keras.metrics.BinaryAccuracy()])"
   ]
  },
  {
   "cell_type": "markdown",
   "metadata": {},
   "source": [
    "## Augment the Data"
   ]
  },
  {
   "cell_type": "markdown",
   "metadata": {},
   "source": [
    "If you'd like, try to augment the data to improve the dataset. Feel free to look at [notebook 04a](04a_asl_augmentation.ipynb) and [notebook 05b](05b_presidential_doggy_door.ipynb) for augmentation examples. There is also documentation for the [Keras ImageDataGenerator class](https://keras.io/api/preprocessing/image/#imagedatagenerator-class). This step is optional, but it may be helpful to get to 92% accuracy."
   ]
  },
  {
   "cell_type": "code",
   "execution_count": 11,
   "metadata": {},
   "outputs": [],
   "source": [
    "from tensorflow.keras.preprocessing.image import ImageDataGenerator\n",
    "\n",
    "# Create a data generator\n",
    "datagen_train = ImageDataGenerator(\n",
    "    samplewise_center=True,  # set each sample mean to 0\n",
    "    rotation_range=10,  # randomly rotate images in the range (degrees, 0 to 180)\n",
    "    zoom_range=0.1,  # Randomly zoom image\n",
    "    width_shift_range=0.1,  # randomly shift images horizontally (fraction of total width)\n",
    "    height_shift_range=0.1,  # randomly shift images vertically (fraction of total height)\n",
    "    horizontal_flip=True,  # randomly flip images\n",
    "    vertical_flip=False,\n",
    ")  # we don't expect Bo to be upside-down so we will not flip vertically\n",
    "\n",
    "# No need to augment validation data\n",
    "datagen_valid = ImageDataGenerator(samplewise_center=True)"
   ]
  },
  {
   "cell_type": "markdown",
   "metadata": {},
   "source": [
    "## Load Dataset"
   ]
  },
  {
   "cell_type": "markdown",
   "metadata": {},
   "source": [
    "Now it's time to load the train and validation datasets. Pick the right folders, as well as the right `target_size` of the images (it needs to match the height and width input of the model you've created). For a reference, check out [notebook 05b](05b_presidential_doggy_door.ipynb)."
   ]
  },
  {
   "cell_type": "code",
   "execution_count": 12,
   "metadata": {},
   "outputs": [
    {
     "name": "stdout",
     "output_type": "stream",
     "text": [
      "Found 139 images belonging to 2 classes.\n",
      "Found 30 images belonging to 2 classes.\n"
     ]
    }
   ],
   "source": [
    "# load and iterate training dataset\n",
    "train_it = datagen_train.flow_from_directory(\n",
    "    \"data/presidential_doggy_door/train/\",\n",
    "    target_size=(224, 224),\n",
    "    color_mode=\"rgb\",\n",
    "    class_mode=\"binary\",\n",
    "    batch_size=8,\n",
    ")\n",
    "\n",
    "# load and iterate validation dataset\n",
    "valid_it = datagen_valid.flow_from_directory(\n",
    "    \"data/presidential_doggy_door/valid/\",\n",
    "    target_size=(224, 224),\n",
    "    color_mode=\"rgb\",\n",
    "    class_mode=\"binary\",\n",
    "    batch_size=8,\n",
    ")"
   ]
  },
  {
   "cell_type": "markdown",
   "metadata": {},
   "source": [
    "## Train the Model"
   ]
  },
  {
   "cell_type": "markdown",
   "metadata": {},
   "source": [
    "Time to train the model! Pass the `train` and `valid` iterators into the `fit` function, as well as setting the desired number of epochs."
   ]
  },
  {
   "cell_type": "code",
   "execution_count": 13,
   "metadata": {},
   "outputs": [
    {
     "name": "stdout",
     "output_type": "stream",
     "text": [
      "Epoch 1/20\n",
      "12/12 [==============================] - 6s 462ms/step - loss: 1.3413 - binary_accuracy: 0.6875 - val_loss: 0.5493 - val_binary_accuracy: 0.7667\n",
      "Epoch 2/20\n",
      "12/12 [==============================] - 2s 164ms/step - loss: 0.5138 - binary_accuracy: 0.7912 - val_loss: 0.3544 - val_binary_accuracy: 0.9000\n",
      "Epoch 3/20\n",
      "12/12 [==============================] - 2s 133ms/step - loss: 0.3782 - binary_accuracy: 0.8901 - val_loss: 0.1614 - val_binary_accuracy: 0.9667\n",
      "Epoch 4/20\n",
      "12/12 [==============================] - 1s 107ms/step - loss: 0.3708 - binary_accuracy: 0.9062 - val_loss: 0.0595 - val_binary_accuracy: 0.9667\n",
      "Epoch 5/20\n",
      "12/12 [==============================] - 2s 129ms/step - loss: 0.2797 - binary_accuracy: 0.9121 - val_loss: 0.1083 - val_binary_accuracy: 0.9333\n",
      "Epoch 6/20\n",
      "12/12 [==============================] - 2s 131ms/step - loss: 0.1775 - binary_accuracy: 0.9231 - val_loss: 0.0865 - val_binary_accuracy: 0.9667\n",
      "Epoch 7/20\n",
      "12/12 [==============================] - 2s 127ms/step - loss: 0.1554 - binary_accuracy: 0.9375 - val_loss: 0.0500 - val_binary_accuracy: 1.0000\n",
      "Epoch 8/20\n",
      "12/12 [==============================] - 1s 120ms/step - loss: 0.0125 - binary_accuracy: 1.0000 - val_loss: 0.0082 - val_binary_accuracy: 1.0000\n",
      "Epoch 9/20\n",
      "12/12 [==============================] - 1s 124ms/step - loss: 0.0575 - binary_accuracy: 0.9670 - val_loss: 0.0084 - val_binary_accuracy: 1.0000\n",
      "Epoch 10/20\n",
      "12/12 [==============================] - 2s 128ms/step - loss: 0.0208 - binary_accuracy: 0.9896 - val_loss: 0.0097 - val_binary_accuracy: 1.0000\n",
      "Epoch 11/20\n",
      "12/12 [==============================] - 1s 115ms/step - loss: 0.0221 - binary_accuracy: 1.0000 - val_loss: 0.0022 - val_binary_accuracy: 1.0000\n",
      "Epoch 12/20\n",
      "12/12 [==============================] - 1s 122ms/step - loss: 0.0382 - binary_accuracy: 0.9780 - val_loss: 0.0068 - val_binary_accuracy: 1.0000\n",
      "Epoch 13/20\n",
      "12/12 [==============================] - 1s 112ms/step - loss: 0.0022 - binary_accuracy: 1.0000 - val_loss: 0.0048 - val_binary_accuracy: 1.0000\n",
      "Epoch 14/20\n",
      "12/12 [==============================] - 2s 130ms/step - loss: 0.0114 - binary_accuracy: 1.0000 - val_loss: 0.0012 - val_binary_accuracy: 1.0000\n",
      "Epoch 15/20\n",
      "12/12 [==============================] - 1s 123ms/step - loss: 0.0054 - binary_accuracy: 1.0000 - val_loss: 5.6324e-04 - val_binary_accuracy: 1.0000\n",
      "Epoch 16/20\n",
      "12/12 [==============================] - 2s 133ms/step - loss: 0.0067 - binary_accuracy: 1.0000 - val_loss: 0.0017 - val_binary_accuracy: 1.0000\n",
      "Epoch 17/20\n",
      "12/12 [==============================] - 1s 120ms/step - loss: 0.0036 - binary_accuracy: 1.0000 - val_loss: 0.0051 - val_binary_accuracy: 1.0000\n",
      "Epoch 18/20\n",
      "12/12 [==============================] - 1s 116ms/step - loss: 0.0044 - binary_accuracy: 1.0000 - val_loss: 5.9045e-04 - val_binary_accuracy: 1.0000\n",
      "Epoch 19/20\n",
      "12/12 [==============================] - 2s 130ms/step - loss: 0.0024 - binary_accuracy: 1.0000 - val_loss: 4.0844e-04 - val_binary_accuracy: 1.0000\n",
      "Epoch 20/20\n",
      "12/12 [==============================] - 2s 129ms/step - loss: 0.0018 - binary_accuracy: 1.0000 - val_loss: 1.4417e-04 - val_binary_accuracy: 1.0000\n"
     ]
    },
    {
     "data": {
      "text/plain": [
       "<tensorflow.python.keras.callbacks.History at 0x7f17e6edd080>"
      ]
     },
     "execution_count": 13,
     "metadata": {},
     "output_type": "execute_result"
    }
   ],
   "source": [
    "model.fit(train_it, steps_per_epoch=12, validation_data=valid_it, validation_steps=4, epochs=20)"
   ]
  },
  {
   "cell_type": "markdown",
   "metadata": {},
   "source": [
    "## Unfreeze Model for Fine Tuning"
   ]
  },
  {
   "cell_type": "markdown",
   "metadata": {},
   "source": [
    "If you have reached 92% validation accuracy already, this next step is optional. If not, we suggest fine tuning the model with a very low learning rate."
   ]
  },
  {
   "cell_type": "code",
   "execution_count": 18,
   "metadata": {},
   "outputs": [],
   "source": [
    "# Unfreeze the base model\n",
    "base_model.trainable = True\n",
    "\n",
    "# It's important to recompile your model after you make any changes\n",
    "# to the `trainable` attribute of any inner layer, so that your changes\n",
    "# are taken into account\n",
    "model.compile(optimizer=keras.optimizers.RMSprop(learning_rate = .00001),  # Very low learning rate\n",
    "              loss=keras.losses.BinaryCrossentropy(from_logits=True),\n",
    "              metrics=[keras.metrics.BinaryAccuracy()])"
   ]
  },
  {
   "cell_type": "code",
   "execution_count": 17,
   "metadata": {},
   "outputs": [
    {
     "name": "stdout",
     "output_type": "stream",
     "text": [
      "Epoch 1/10\n",
      "12/12 [==============================] - 2s 157ms/step - loss: 1.8623e-08 - binary_accuracy: 1.0000 - val_loss: 0.0010 - val_binary_accuracy: 1.0000\n",
      "Epoch 2/10\n",
      "12/12 [==============================] - 2s 159ms/step - loss: 6.0909e-08 - binary_accuracy: 1.0000 - val_loss: 5.2326e-04 - val_binary_accuracy: 1.0000\n",
      "Epoch 3/10\n",
      "12/12 [==============================] - 2s 151ms/step - loss: 4.7763e-08 - binary_accuracy: 1.0000 - val_loss: 7.1378e-04 - val_binary_accuracy: 1.0000\n",
      "Epoch 4/10\n",
      "12/12 [==============================] - 2s 146ms/step - loss: 5.2657e-09 - binary_accuracy: 1.0000 - val_loss: 7.1895e-04 - val_binary_accuracy: 1.0000\n",
      "Epoch 5/10\n",
      "12/12 [==============================] - 2s 153ms/step - loss: 9.4899e-08 - binary_accuracy: 1.0000 - val_loss: 4.2467e-04 - val_binary_accuracy: 1.0000\n",
      "Epoch 6/10\n",
      "12/12 [==============================] - 2s 155ms/step - loss: 2.0344e-08 - binary_accuracy: 1.0000 - val_loss: 4.1720e-04 - val_binary_accuracy: 1.0000\n",
      "Epoch 7/10\n",
      "12/12 [==============================] - 2s 142ms/step - loss: 5.7492e-09 - binary_accuracy: 1.0000 - val_loss: 6.6353e-04 - val_binary_accuracy: 1.0000\n",
      "Epoch 8/10\n",
      "12/12 [==============================] - 2s 173ms/step - loss: 1.7501e-09 - binary_accuracy: 1.0000 - val_loss: 6.3801e-04 - val_binary_accuracy: 1.0000\n",
      "Epoch 9/10\n",
      "12/12 [==============================] - 2s 142ms/step - loss: 8.6951e-10 - binary_accuracy: 1.0000 - val_loss: 6.5131e-04 - val_binary_accuracy: 1.0000\n",
      "Epoch 10/10\n",
      "12/12 [==============================] - 2s 160ms/step - loss: 1.9241e-09 - binary_accuracy: 1.0000 - val_loss: 6.9077e-04 - val_binary_accuracy: 1.0000\n"
     ]
    },
    {
     "data": {
      "text/plain": [
       "<tensorflow.python.keras.callbacks.History at 0x7f1864c87240>"
      ]
     },
     "execution_count": 17,
     "metadata": {},
     "output_type": "execute_result"
    }
   ],
   "source": [
    "model.fit(train_it, steps_per_epoch=12, validation_data=valid_it, validation_steps=4, epochs=10)"
   ]
  },
  {
   "cell_type": "markdown",
   "metadata": {},
   "source": [
    "## Evaluate the Model"
   ]
  },
  {
   "cell_type": "markdown",
   "metadata": {},
   "source": [
    "Hopefully, you now have a model that has a validation accuracy of 92% or higher. If not, you may want to go back and either run more epochs of training, or adjust your data augmentation. \n",
    "\n",
    "Once you are satisfied with the validation accuracy, evaluate the model by executing the following cell. The evaluate function will return a tuple, where the first value is your loss, and the second value is your accuracy. To pass, the model will need have an accuracy value of `92% or higher`. "
   ]
  },
  {
   "cell_type": "code",
   "execution_count": 19,
   "metadata": {},
   "outputs": [
    {
     "name": "stdout",
     "output_type": "stream",
     "text": [
      "4/3 [================================] - 0s 49ms/step - loss: 0.0014 - binary_accuracy: 1.0000\n"
     ]
    },
    {
     "data": {
      "text/plain": [
       "[0.0013813684927299619, 1.0]"
      ]
     },
     "execution_count": 19,
     "metadata": {},
     "output_type": "execute_result"
    }
   ],
   "source": [
    "model.evaluate(valid_it, steps=valid_it.samples/valid_it.batch_size)"
   ]
  },
  {
   "cell_type": "markdown",
   "metadata": {},
   "source": [
    "## Run the Assessment"
   ]
  },
  {
   "cell_type": "markdown",
   "metadata": {},
   "source": [
    "To assess your model run the following two cells.\n",
    "\n",
    "**NOTE:** `run_assessment` assumes your model is named `model` and your validation data iterator is called `valid_it`. If for any reason you have modified these variable names, please update the names of the arguments passed to `run_assessment`."
   ]
  },
  {
   "cell_type": "code",
   "execution_count": 20,
   "metadata": {},
   "outputs": [],
   "source": [
    "from run_assessment import run_assessment"
   ]
  },
  {
   "cell_type": "code",
   "execution_count": 22,
   "metadata": {},
   "outputs": [
    {
     "name": "stdout",
     "output_type": "stream",
     "text": [
      "Evaluating model 5 times to obtain average accuracy...\n",
      "\n",
      "4/3 [================================] - 0s 41ms/step - loss: 6.9078e-04 - binary_accuracy: 1.0000\n",
      "4/3 [================================] - 0s 48ms/step - loss: 6.9083e-04 - binary_accuracy: 1.0000\n",
      "4/3 [================================] - 0s 44ms/step - loss: 6.9085e-04 - binary_accuracy: 1.0000\n",
      "4/3 [================================] - 0s 47ms/step - loss: 6.9078e-04 - binary_accuracy: 1.0000\n",
      "4/3 [================================] - 0s 42ms/step - loss: 6.9078e-04 - binary_accuracy: 1.0000\n",
      "\n",
      "Accuracy required to pass the assessment is 0.92 or greater.\n",
      "Your average accuracy is 1.0000.\n",
      "\n",
      "Congratulations! You passed the assessment!\n",
      "See instructions below to generate a certificate.\n"
     ]
    }
   ],
   "source": [
    "run_assessment(model, valid_it)"
   ]
  },
  {
   "cell_type": "markdown",
   "metadata": {},
   "source": [
    "## Generate a Certificate"
   ]
  },
  {
   "cell_type": "markdown",
   "metadata": {},
   "source": [
    "If you passed the assessment, please return to the course page (shown below) and click the \"ASSESS TASK\" button, which will generate your certificate for the course."
   ]
  },
  {
   "cell_type": "markdown",
   "metadata": {},
   "source": [
    "<img src=\"./images/assess_task.png\" style=\"width: 800px;\">"
   ]
  },
  {
   "cell_type": "markdown",
   "metadata": {},
   "source": [
    "<center><a href=\"https://www.nvidia.com/dli\"> <img src=\"images/DLI_Header.png\" alt=\"Header\" style=\"width: 400px;\"/> </a></center>"
   ]
  }
 ],
 "metadata": {
  "kernelspec": {
   "display_name": "Python 3",
   "language": "python",
   "name": "python3"
  },
  "language_info": {
   "codemirror_mode": {
    "name": "ipython",
    "version": 3
   },
   "file_extension": ".py",
   "mimetype": "text/x-python",
   "name": "python",
   "nbconvert_exporter": "python",
   "pygments_lexer": "ipython3",
   "version": "3.6.9"
  }
 },
 "nbformat": 4,
 "nbformat_minor": 4
}
